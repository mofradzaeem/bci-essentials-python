{
 "cells": [
  {
   "cell_type": "code",
   "execution_count": 1,
   "metadata": {},
   "outputs": [],
   "source": [
    "# This is a script to test the functionality of python SSVEP processing\n",
    "# Written by Brian Irvine on 08/05/2021\n",
    "\n",
    "import os\n",
    "import sys\n",
    "\n",
    "# Add parent directory to path to access bci_essentials\n",
    "cwd = os.getcwd()\n",
    "parent_dir = os.path.dirname(cwd)\n",
    "sys.path.append(parent_dir)\n",
    "\n",
    "# parent_dir = f\"..\\\\..\\\\{cwd}\"\n",
    "# proyect_dir = f\"..\\\\{parent_dir}\" \n",
    "# sys.path.append(parent_dir)\n",
    "# sys.path.append(os.path.join(os.path.dirname(os.path.abspath(__file__)),os.pardir))\n",
    "\n",
    "# print(f'{os.getcwd()}')\n",
    "\n",
    "# # from src.bci_data import *\n",
    "from bci_essentials.bci_data import *\n",
    "\n",
    "# import\n",
    "import matplotlib.pyplot as plt"
   ]
  },
  {
   "cell_type": "code",
   "execution_count": 2,
   "metadata": {},
   "outputs": [
    {
     "name": "stdout",
     "output_type": "stream",
     "text": [
      "loading ERP data from C:/Users/danie/Documents/Projects/bci-essentials-python/examples/data/brian_ssvep_data.xdf\n",
      "DSI24\n",
      "EEG\n",
      "UnityMarkerStream\n",
      "LSL_Marker_Strings\n",
      "UnityEvents\n",
      "LSL_Event_Strings\n",
      "PythonResponse\n",
      "BCI\n",
      "['P3', 'C3', 'F3', 'Fz', 'F4', 'C4', 'P4', 'Cz', 'Pz', 'Fp1', 'Fp2', 'T3', 'T5', 'O1', 'O2', 'X3', 'X2', 'F7', 'F8', 'X1', 'A2', 'T6', 'T4', 'TRG']\n",
      "DSI24\n",
      "no classifier defined\n",
      "DSI24\n",
      "['P3', 'C3', 'F3', 'Fz', 'F4', 'C4', 'P4', 'Cz', 'Pz', 'Fp1', 'Fp2', 'T3', 'T5', 'O1', 'O2', 'X3', 'X2', 'F7', 'F8', 'X1', 'A2', 'T6', 'T4']\n",
      "initializing the classifier\n"
     ]
    }
   ],
   "source": [
    "# Initialize the SSVEP\n",
    "# should try to automate the reading of some of this stuff from the file header\n",
    "test_ssvep = EEG_data()\n",
    "\n",
    "# Load from xdf into erp_data format\n",
    "filename = \"C:/Users/danie/Documents/Projects/bci-essentials-python/examples/data/brian_ssvep_data.xdf\"\n",
    "test_ssvep.load_offline_eeg_data(filename = filename, format='xdf')\n",
    "\n",
    "# Define the classifier\n",
    "# test_ssvep.classifier = ssvep_basic_classifier(subset=[])\n",
    "test_ssvep.classifier = ssvep_cca_classifier(subset=[])\n",
    "\n",
    "# \n",
    "# target_freqs = [9, 9.6, 10.28, 11.07, 12, 13.09, 14.4]\n",
    "# TODO add the frequencies from the marker string to target freqs\n",
    "\n",
    "#test_ssvep.classifier.set_ssvep_settings(sampling_freq = 300, target_freqs = target_freqs)\n",
    "\n",
    "# test_ssvep.classifier.set_ssvep_settings(n_splits=3, sampling_freq=300, random_seed=42, clf_type=\"Random Forest\")\n",
    "test_ssvep.classifier.set_ssvep_settings(n_splits=3, random_seed=42, n_harmonics=2, f_width=1.0)\n",
    "\n"
   ]
  },
  {
   "cell_type": "code",
   "execution_count": null,
   "metadata": {},
   "outputs": [
    {
     "name": "stdout",
     "output_type": "stream",
     "text": [
      "Not doing channel selection\n",
      "accuracy = 0.4\n",
      "precision = 0.4\n",
      "recall = 0.4\n",
      "confusion matrix\n",
      "[[20  0  0]\n",
      " [16  4  0]\n",
      " [15  5  0]]\n"
     ]
    },
    {
     "ename": "AttributeError",
     "evalue": "'EEG_data' object has no attribute 'user_id'",
     "output_type": "error",
     "traceback": [
      "\u001b[1;31m---------------------------------------------------------------------------\u001b[0m",
      "\u001b[1;31mAttributeError\u001b[0m                            Traceback (most recent call last)",
      "Cell \u001b[1;32mIn[6], line 2\u001b[0m\n\u001b[0;32m      1\u001b[0m \u001b[39m# test_ssvep.main(online=False, training=True, max_samples=5120)\u001b[39;00m\n\u001b[1;32m----> 2\u001b[0m test_ssvep\u001b[39m.\u001b[39;49mmain(online\u001b[39m=\u001b[39;49m\u001b[39mFalse\u001b[39;49;00m,\n\u001b[0;32m      3\u001b[0m                 training\u001b[39m=\u001b[39;49m\u001b[39mTrue\u001b[39;49;00m, \n\u001b[0;32m      4\u001b[0m                 print_markers\u001b[39m=\u001b[39;49m\u001b[39mFalse\u001b[39;49;00m,\n\u001b[0;32m      5\u001b[0m                 print_training\u001b[39m=\u001b[39;49m\u001b[39mFalse\u001b[39;49;00m,\n\u001b[0;32m      6\u001b[0m                 print_fit\u001b[39m=\u001b[39;49m\u001b[39mFalse\u001b[39;49;00m,\n\u001b[0;32m      7\u001b[0m                 print_performance\u001b[39m=\u001b[39;49m\u001b[39mTrue\u001b[39;49;00m,\n\u001b[0;32m      8\u001b[0m                 print_predict\u001b[39m=\u001b[39;49m\u001b[39mFalse\u001b[39;49;00m)\n",
      "File \u001b[1;32mc:\\Users\\danie\\Documents\\Projects\\bci-essentials-python\\bci_essentials\\bci_data.py:942\u001b[0m, in \u001b[0;36mEEG_data.main\u001b[1;34m(self, buffer, eeg_start, max_channels, max_samples, max_windows, max_loops, training, online, train_complete, iterative_training, live_update, print_markers, print_training, print_fit, print_performance, print_predict, pp_type, pp_low, pp_high, pp_order)\u001b[0m\n\u001b[0;32m    939\u001b[0m \u001b[39m# PREDICT\u001b[39;00m\n\u001b[0;32m    940\u001b[0m \u001b[39melif\u001b[39;00m train_complete \u001b[39m==\u001b[39m \u001b[39mTrue\u001b[39;00m \u001b[39mand\u001b[39;00m current_nwindows \u001b[39m!=\u001b[39m \u001b[39m0\u001b[39m:\n\u001b[0;32m    941\u001b[0m     \u001b[39m# Save ML model to file\u001b[39;00m\n\u001b[1;32m--> 942\u001b[0m     save_model(\u001b[39mself\u001b[39m, \u001b[39mself\u001b[39;49m\u001b[39m.\u001b[39;49muser_id)\n\u001b[0;32m    944\u001b[0m     \u001b[39mif\u001b[39;00m print_predict:\n\u001b[0;32m    945\u001b[0m         \u001b[39mprint\u001b[39m(\u001b[39m\"\u001b[39m\u001b[39mmaking a prediction based on \u001b[39m\u001b[39m\"\u001b[39m, current_nwindows ,\u001b[39m\"\u001b[39m\u001b[39m windows\u001b[39m\u001b[39m\"\u001b[39m)\n",
      "\u001b[1;31mAttributeError\u001b[0m: 'EEG_data' object has no attribute 'user_id'"
     ]
    }
   ],
   "source": [
    "# test_ssvep.main(online=False, training=True, max_samples=5120)\n",
    "test_ssvep.main(online=False,\n",
    "                training=True, \n",
    "                print_markers=False,\n",
    "                print_training=False,\n",
    "                print_fit=False,\n",
    "                print_performance=True,\n",
    "                print_predict=False)\n",
    "# print(\"debug\")\n",
    "\n",
    "# test_ssvep.class"
   ]
  }
 ],
 "metadata": {
  "kernelspec": {
   "display_name": "bci-essentials",
   "language": "python",
   "name": "python3"
  },
  "language_info": {
   "codemirror_mode": {
    "name": "ipython",
    "version": 3
   },
   "file_extension": ".py",
   "mimetype": "text/x-python",
   "name": "python",
   "nbconvert_exporter": "python",
   "pygments_lexer": "ipython3",
   "version": "3.10.9"
  },
  "orig_nbformat": 4,
  "vscode": {
   "interpreter": {
    "hash": "a452813c528e941f56eb0ec821aeb10db784873366ca544b3df7eebcff423687"
   }
  }
 },
 "nbformat": 4,
 "nbformat_minor": 2
}

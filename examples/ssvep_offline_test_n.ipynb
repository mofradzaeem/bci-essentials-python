{
 "cells": [
  {
   "cell_type": "code",
   "execution_count": 2,
   "metadata": {},
   "outputs": [],
   "source": [
    "# This is a script to test the functionality of python SSVEP processing\n",
    "# Written by Brian Irvine on 08/05/2021\n",
    "\n",
    "import os\n",
    "import sys\n",
    "\n",
    "# Add parent directory to path to access bci_essentials\n",
    "cwd = os.getcwd()\n",
    "parent_dir = os.path.dirname(cwd)\n",
    "sys.path.append(parent_dir)\n",
    "\n",
    "# parent_dir = f\"..\\\\..\\\\{cwd}\"\n",
    "# proyect_dir = f\"..\\\\{parent_dir}\" \n",
    "# sys.path.append(parent_dir)\n",
    "# sys.path.append(os.path.join(os.path.dirname(os.path.abspath(__file__)),os.pardir))\n",
    "\n",
    "# print(f'{os.getcwd()}')\n",
    "\n",
    "# # from src.bci_data import *\n",
    "from bci_essentials.bci_data import *\n",
    "\n",
    "# import\n",
    "import matplotlib.pyplot as plt"
   ]
  },
  {
   "cell_type": "code",
   "execution_count": 3,
   "metadata": {},
   "outputs": [
    {
     "name": "stdout",
     "output_type": "stream",
     "text": [
      "loading ERP data from C:/Users/danie/Documents/Projects/bci-essentials-python/examples/data/adam_ssvep_boccia.xdf\n",
      "UnityMarkerStream\n",
      "LSL_Marker_Strings\n",
      "UnityEvents\n",
      "LSL_Event_Strings\n",
      "DSI7\n",
      "EEG\n",
      "PythonResponse\n",
      "BCI\n",
      "['S2', 'F4', 'C4', 'S3', 'S1', 'C3', 'F3', 'TRG']\n",
      "DSI7\n",
      "['S2', 'F4', 'C4', 'S3', 'S1', 'C3', 'F3', 'TRG']\n",
      "no classifier defined\n",
      "DSI7\n",
      "['S2', 'F4', 'C4', 'S3', 'S1', 'C3', 'F3']\n",
      "initializing the classifier\n"
     ]
    }
   ],
   "source": [
    "# Initialize the SSVEP\n",
    "# should try to automate the reading of some of this stuff from the file header\n",
    "test_ssvep = EEG_data()\n",
    "\n",
    "# Load from xdf into erp_data format\n",
    "filename = \"C:/Users/danie/Documents/Projects/bci-essentials-python/examples/data/adam_ssvep_boccia.xdf\"\n",
    "test_ssvep.load_offline_eeg_data(filename = filename, format='xdf')\n",
    "\n",
    "# Define the classifier\n",
    "# test_ssvep.classifier = ssvep_basic_classifier(subset=[])\n",
    "test_ssvep.classifier = ssvep_cca_classifier(subset=[])\n",
    "\n",
    "# \n",
    "# target_freqs = [9, 9.6, 10.28, 11.07, 12, 13.09, 14.4]\n",
    "# TODO add the frequencies from the marker string to target freqs\n",
    "\n",
    "#test_ssvep.classifier.set_ssvep_settings(sampling_freq = 300, target_freqs = target_freqs)\n",
    "\n",
    "# test_ssvep.classifier.set_ssvep_settings(n_splits=3, sampling_freq=300, random_seed=42, clf_type=\"Random Forest\")\n",
    "test_ssvep.classifier.set_ssvep_settings(n_splits=3, random_seed=42, n_harmonics=2, f_width=1.0)\n",
    "\n"
   ]
  },
  {
   "cell_type": "code",
   "execution_count": 4,
   "metadata": {},
   "outputs": [
    {
     "name": "stdout",
     "output_type": "stream",
     "text": [
      "Not doing channel selection\n",
      "Unexpected exception formatting exception. Falling back to standard exception\n"
     ]
    },
    {
     "name": "stderr",
     "output_type": "stream",
     "text": [
      "Traceback (most recent call last):\n",
      "  File \"c:\\Users\\danie\\anaconda3\\envs\\bci-essentials\\lib\\site-packages\\IPython\\core\\interactiveshell.py\", line 3442, in run_code\n",
      "    exec(code_obj, self.user_global_ns, self.user_ns)\n",
      "  File \"C:\\Users\\danie\\AppData\\Local\\Temp\\ipykernel_25804\\3050673792.py\", line 2, in <module>\n",
      "    test_ssvep.main(online=False,\n",
      "  File \"c:\\Users\\danie\\Documents\\Projects\\bci-essentials-python\\bci_essentials\\bci_data.py\", line 996, in main\n",
      "    self.classifier.fit(print_fit = print_fit, print_performance=print_performance)\n",
      "  File \"c:\\Users\\danie\\Documents\\Projects\\bci-essentials-python\\bci_essentials\\classification.py\", line 825, in fit\n",
      "  File \"c:\\Users\\danie\\Documents\\Projects\\bci-essentials-python\\bci_essentials\\classification.py\", line 782, in ssvep_kernel\n",
      "    waves[0,:] = np.sin(2*np.pi*f_target*t)\n",
      "  File \"c:\\Users\\danie\\Documents\\Projects\\bci-essentials-python\\bci_essentials\\signal_processing.py\", line 240, in psd\n",
      "    signal.welch(data, fs=fsample, nperseg=np.shape(data)[-1])\n",
      "  File \"c:\\Users\\danie\\anaconda3\\envs\\bci-essentials\\lib\\site-packages\\scipy\\signal\\_spectral_py.py\", line 455, in welch\n",
      "    freqs, Pxx = csd(x, x, fs=fs, window=window, nperseg=nperseg,\n",
      "  File \"c:\\Users\\danie\\anaconda3\\envs\\bci-essentials\\lib\\site-packages\\scipy\\signal\\_spectral_py.py\", line 590, in csd\n",
      "    freqs, _, Pxy = _spectral_helper(x, y, fs, window, nperseg, noverlap, nfft,\n",
      "  File \"c:\\Users\\danie\\anaconda3\\envs\\bci-essentials\\lib\\site-packages\\scipy\\signal\\_spectral_py.py\", line 1855, in _spectral_helper\n",
      "    scale = 1.0 / (fs * (win*win).sum())\n",
      "TypeError: unsupported operand type(s) for *: 'ssvep_cca_classifier' and 'float'\n",
      "\n",
      "During handling of the above exception, another exception occurred:\n",
      "\n",
      "Traceback (most recent call last):\n",
      "  File \"c:\\Users\\danie\\anaconda3\\envs\\bci-essentials\\lib\\site-packages\\IPython\\core\\interactiveshell.py\", line 2057, in showtraceback\n",
      "    stb = self.InteractiveTB.structured_traceback(\n",
      "  File \"c:\\Users\\danie\\anaconda3\\envs\\bci-essentials\\lib\\site-packages\\IPython\\core\\ultratb.py\", line 1118, in structured_traceback\n",
      "    return FormattedTB.structured_traceback(\n",
      "  File \"c:\\Users\\danie\\anaconda3\\envs\\bci-essentials\\lib\\site-packages\\IPython\\core\\ultratb.py\", line 1012, in structured_traceback\n",
      "    return VerboseTB.structured_traceback(\n",
      "  File \"c:\\Users\\danie\\anaconda3\\envs\\bci-essentials\\lib\\site-packages\\IPython\\core\\ultratb.py\", line 865, in structured_traceback\n",
      "    formatted_exception = self.format_exception_as_a_whole(etype, evalue, etb, number_of_lines_of_context,\n",
      "  File \"c:\\Users\\danie\\anaconda3\\envs\\bci-essentials\\lib\\site-packages\\IPython\\core\\ultratb.py\", line 818, in format_exception_as_a_whole\n",
      "    frames.append(self.format_record(r))\n",
      "  File \"c:\\Users\\danie\\anaconda3\\envs\\bci-essentials\\lib\\site-packages\\IPython\\core\\ultratb.py\", line 736, in format_record\n",
      "    result += ''.join(_format_traceback_lines(frame_info.lines, Colors, self.has_colors, lvals))\n",
      "  File \"c:\\Users\\danie\\anaconda3\\envs\\bci-essentials\\lib\\site-packages\\stack_data\\utils.py\", line 145, in cached_property_wrapper\n",
      "    value = obj.__dict__[self.func.__name__] = self.func(obj)\n",
      "  File \"c:\\Users\\danie\\anaconda3\\envs\\bci-essentials\\lib\\site-packages\\stack_data\\core.py\", line 698, in lines\n",
      "    pieces = self.included_pieces\n",
      "  File \"c:\\Users\\danie\\anaconda3\\envs\\bci-essentials\\lib\\site-packages\\stack_data\\utils.py\", line 145, in cached_property_wrapper\n",
      "    value = obj.__dict__[self.func.__name__] = self.func(obj)\n",
      "  File \"c:\\Users\\danie\\anaconda3\\envs\\bci-essentials\\lib\\site-packages\\stack_data\\core.py\", line 649, in included_pieces\n",
      "    pos = scope_pieces.index(self.executing_piece)\n",
      "  File \"c:\\Users\\danie\\anaconda3\\envs\\bci-essentials\\lib\\site-packages\\stack_data\\utils.py\", line 145, in cached_property_wrapper\n",
      "    value = obj.__dict__[self.func.__name__] = self.func(obj)\n",
      "  File \"c:\\Users\\danie\\anaconda3\\envs\\bci-essentials\\lib\\site-packages\\stack_data\\core.py\", line 628, in executing_piece\n",
      "    return only(\n",
      "  File \"c:\\Users\\danie\\anaconda3\\envs\\bci-essentials\\lib\\site-packages\\executing\\executing.py\", line 164, in only\n",
      "    raise NotOneValueFound('Expected one value, found 0')\n",
      "executing.executing.NotOneValueFound: Expected one value, found 0\n"
     ]
    }
   ],
   "source": [
    "# test_ssvep.main(online=False, training=True, max_samples=5120)\n",
    "test_ssvep.main(online=False,\n",
    "                training=True, \n",
    "                print_markers=False,\n",
    "                print_training=False,\n",
    "                print_fit=False,\n",
    "                print_performance=True,\n",
    "                print_predict=False)\n",
    "# print(\"debug\")\n",
    "\n",
    "# test_ssvep.class"
   ]
  }
 ],
 "metadata": {
  "kernelspec": {
   "display_name": "bci-essentials",
   "language": "python",
   "name": "python3"
  },
  "language_info": {
   "codemirror_mode": {
    "name": "ipython",
    "version": 3
   },
   "file_extension": ".py",
   "mimetype": "text/x-python",
   "name": "python",
   "nbconvert_exporter": "python",
   "pygments_lexer": "ipython3",
   "version": "3.10.9"
  },
  "orig_nbformat": 4,
  "vscode": {
   "interpreter": {
    "hash": "a452813c528e941f56eb0ec821aeb10db784873366ca544b3df7eebcff423687"
   }
  }
 },
 "nbformat": 4,
 "nbformat_minor": 2
}

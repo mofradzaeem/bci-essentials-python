{
 "cells": [
  {
   "cell_type": "code",
   "execution_count": 1,
   "metadata": {},
   "outputs": [],
   "source": [
    "# This is a script to test the functionality of python SSVEP processing\n",
    "# Written by Brian Irvine on 08/05/2021\n",
    "\n",
    "import os\n",
    "import sys\n",
    "\n",
    "# Add parent directory to path to access bci_essentials\n",
    "cwd = os.getcwd()\n",
    "parent_dir = os.path.dirname(cwd)\n",
    "sys.path.append(parent_dir)\n",
    "\n",
    "# parent_dir = f\"..\\\\..\\\\{cwd}\"\n",
    "# proyect_dir = f\"..\\\\{parent_dir}\" \n",
    "# sys.path.append(parent_dir)\n",
    "# sys.path.append(os.path.join(os.path.dirname(os.path.abspath(__file__)),os.pardir))\n",
    "\n",
    "# print(f'{os.getcwd()}')\n",
    "\n",
    "# # from src.bci_data import *\n",
    "from bci_essentials.bci_data import *\n",
    "\n",
    "# import\n",
    "import matplotlib.pyplot as plt"
   ]
  },
  {
   "cell_type": "code",
   "execution_count": 2,
   "metadata": {},
   "outputs": [
    {
     "name": "stdout",
     "output_type": "stream",
     "text": [
      "loading ERP data from Z:\\BCI Program\\BCI Studies\\Boccia_Software_Pilot-March2023\\Data\\sub-P001\\ses-S002\\eeg\\sub-P001_ses-S002_task-T1_run-001_eeg.xdf\n",
      "UnityMarkerStream\n",
      "LSL_Marker_Strings\n",
      "UnityEvents\n",
      "LSL_Event_Strings\n",
      "DSI7\n",
      "EEG\n",
      "PythonResponse\n",
      "BCI\n",
      "['S2', 'F4', 'C4', 'S3', 'S1', 'C3', 'F3', 'TRG']\n",
      "DSI7\n",
      "['S2', 'F4', 'C4', 'S3', 'S1', 'C3', 'F3', 'TRG']\n",
      "no classifier defined\n",
      "DSI7\n",
      "['S2', 'F4', 'C4', 'S3', 'S1', 'C3', 'F3']\n",
      "initializing the classifier\n"
     ]
    }
   ],
   "source": [
    "# Initialize the SSVEP\n",
    "# should try to automate the reading of some of this stuff from the file header\n",
    "test_ssvep = EEG_data()\n",
    "\n",
    "# Load from xdf into erp_data format\n",
    "filename = \"Z:\\BCI Program\\BCI Studies\\Boccia_Software_Pilot-March2023\\Data\\sub-P001\\ses-S002\\eeg\\sub-P001_ses-S002_task-T1_run-001_eeg.xdf\"\n",
    "test_ssvep.load_offline_eeg_data(filename = filename, format='xdf')\n",
    "\n",
    "# Define the classifier\n",
    "# test_ssvep.classifier = ssvep_basic_classifier(subset=[])\n",
    "test_ssvep.classifier = ssvep_cca2_classifier(subset=[])\n",
    "\n",
    "\n",
    "# \n",
    "target_freqs = [7.692307, 10, 11.11111]\n",
    "# TODO add the frequencies from the marker string to target freqs\n",
    "\n",
    "#Training free classifier settings\n",
    "#test_ssvep.classifier = ssvep_basic_classifier_tf(subset=[])\n",
    "# test_ssvep.classifier.set_ssvep_settings(sampling_freq = 300, target_freqs = target_freqs)\n",
    "\n",
    "# test_ssvep.classifier.set_ssvep_settings(n_splits=3, sampling_freq=300, random_seed=42, clf_type=\"Random Forest\")\n",
    "test_ssvep.classifier.set_ssvep_settings(target_freqs=target_freqs, n_harmonics=2, f_width=1.0)\n",
    "\n"
   ]
  },
  {
   "cell_type": "code",
   "execution_count": 4,
   "metadata": {},
   "outputs": [
    {
     "name": "stdout",
     "output_type": "stream",
     "text": [
      "making a prediction based on  5  windows\n"
     ]
    }
   ],
   "source": [
    "# test_ssvep.main(online=False, training=True, max_samples=5120)\n",
    "test_ssvep.main(online=False,\n",
    "                training=False, \n",
    "                print_markers=False,\n",
    "                print_training=False,\n",
    "                print_fit=False,\n",
    "                print_performance=True,\n",
    "                print_predict=True,\n",
    "                train_complete=True)\n",
    "# print(\"debug\")\n",
    "\n",
    "# test_ssvep.class"
   ]
  }
 ],
 "metadata": {
  "kernelspec": {
   "display_name": "bci-ess",
   "language": "python",
   "name": "python3"
  },
  "language_info": {
   "codemirror_mode": {
    "name": "ipython",
    "version": 3
   },
   "file_extension": ".py",
   "mimetype": "text/x-python",
   "name": "python",
   "nbconvert_exporter": "python",
   "pygments_lexer": "ipython3",
   "version": "3.8.15"
  },
  "orig_nbformat": 4,
  "vscode": {
   "interpreter": {
    "hash": "c69c2f62b4262bce188a342a80bf1a25c74867e772f488012954b077d43eb590"
   }
  }
 },
 "nbformat": 4,
 "nbformat_minor": 2
}
